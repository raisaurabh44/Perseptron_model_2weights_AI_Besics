{
  "nbformat": 4,
  "nbformat_minor": 0,
  "metadata": {
    "colab": {
      "provenance": [],
      "authorship_tag": "ABX9TyNWiS3l6XlrzHbMF4cDy6E+",
      "include_colab_link": true
    },
    "kernelspec": {
      "name": "python3",
      "display_name": "Python 3"
    },
    "language_info": {
      "name": "python"
    }
  },
  "cells": [
    {
      "cell_type": "markdown",
      "metadata": {
        "id": "view-in-github",
        "colab_type": "text"
      },
      "source": [
        "<a href=\"https://colab.research.google.com/github/raisaurabh44/Perseptron_model_2weights_AI_Besics/blob/main/Perseptron_model_2weights.ipynb\" target=\"_parent\"><img src=\"https://colab.research.google.com/assets/colab-badge.svg\" alt=\"Open In Colab\"/></a>"
      ]
    },
    {
      "cell_type": "code",
      "execution_count": 17,
      "metadata": {
        "id": "wV6YGBFOIdZR"
      },
      "outputs": [],
      "source": [
        "x1=[10,8,15] # ads's\n",
        "x2=[8,20,25] # Num of stores\n",
        "y=[20,15,30] # Sales\n",
        "\n",
        "n = len(x1)\n",
        "alpha = 0.01"
      ]
    },
    {
      "cell_type": "markdown",
      "source": [
        "-Find best values of w1, w2 , b given the above training samples\n",
        "- Eqn : y_hat= w1.x1+w2.x2+ b"
      ],
      "metadata": {
        "id": "qDqIgT0Qlt9p"
      }
    },
    {
      "cell_type": "code",
      "source": [
        "import numpy as np\n",
        "np.random.seed(123)\n",
        "random_init= np.random.randn(3)\n",
        "w1, w2 ,b= random_init[0], random_init[1], random_init[2]\n",
        "print (f'Initialized weight : w1: {w1} | w2 : {w2} | b: {b}')"
      ],
      "metadata": {
        "colab": {
          "base_uri": "https://localhost:8080/"
        },
        "id": "RU9YVoPtKKtE",
        "outputId": "38f2260f-ca76-4763-a82c-34d236029763"
      },
      "execution_count": 3,
      "outputs": [
        {
          "output_type": "stream",
          "name": "stdout",
          "text": [
            "Initialized weight : w1: -1.0856306033005612 | w2 : 0.9973454465835858 | b: 0.28297849805199204\n"
          ]
        }
      ]
    },
    {
      "cell_type": "code",
      "source": [
        "def forward_pass(w1,w2,b):\n",
        "\n",
        "  y_preds=[]\n",
        "  total_error=0\n",
        "\n",
        "  for i in range(n):\n",
        "    y_hat = w1*x1[i] +w2*x2[i] + b\n",
        "    y_preds.append(y_hat)\n",
        "\n",
        "    E=(y[i]- y_hat)**2\n",
        "    total_error+=E\n",
        "  return y_preds, total_error"
      ],
      "metadata": {
        "id": "XkV7t1R3L2It"
      },
      "execution_count": 12,
      "outputs": []
    },
    {
      "cell_type": "code",
      "source": [
        "def weight_update(w1,w2,b,y_preds):\n",
        "\n",
        "  for i in range (n):\n",
        "    dj_dw1= -2*(y[i]-y_preds[i])*x1[i]\n",
        "    dj_dw2= -2*(y[i]-y_preds[i])*x2[i]\n",
        "    dj_db= -2*(y[i]-y_preds[i])\n",
        "\n",
        "    w1-= alpha * dj_dw1\n",
        "    w2-= alpha * dj_dw2\n",
        "    b-= alpha * dj_db\n",
        "  return w1,w2,b"
      ],
      "metadata": {
        "id": "cLTAYFBlN5KF"
      },
      "execution_count": 15,
      "outputs": []
    },
    {
      "cell_type": "code",
      "source": [
        "weight_update(w1,w2,b,y_preds)"
      ],
      "metadata": {
        "colab": {
          "base_uri": "https://localhost:8080/"
        },
        "id": "WoFcoJIqRYSo",
        "outputId": "37e580fb-91a7-4389-8f27-ff93e031ee8a"
      },
      "execution_count": 24,
      "outputs": [
        {
          "output_type": "execute_result",
          "data": {
            "text/plain": [
              "(-3.347099935780321e+144, -5.755268351101911e+144, -2.8727103259689883e+143)"
            ]
          },
          "metadata": {},
          "execution_count": 24
        }
      ]
    },
    {
      "cell_type": "code",
      "source": [
        "# Data set\n",
        "x1=[10,8,15] # ads's\n",
        "x2=[8,20,25] # Num of stores\n",
        "y=[20,15,30] # Sales\n",
        "\n",
        "# Orchestration\n",
        "import numpy as np\n",
        "\n",
        "# Params\n",
        "alpha = 0.0005\n",
        "n= len(x1)\n",
        "\n",
        "# Random weight initializations\n",
        "np.random.seed(123)\n",
        "random_init= np.random.randn(3)\n",
        "w1, w2 ,b= random_init[0], random_init[1], random_init[2]\n",
        "print (f'Initialized weight : w1: {w1} | w2 : {w2} | b: {b}')\n",
        "\n",
        "#forward pass and weight updates\n",
        "iterations = 100\n",
        "error=[]\n",
        "\n",
        "for iter_num in range(iterations):\n",
        "  y_preds, total_error= forward_pass(w1,w2,b)\n",
        "  print(f'Iteration : {iter_num} | Error : {total_error} ')\n",
        "  error.append(total_error)\n",
        "\n",
        "  w1, w2 , b = weight_update(w1,w2,b,y_preds)\n"
      ],
      "metadata": {
        "colab": {
          "base_uri": "https://localhost:8080/"
        },
        "id": "vTsUf_u6RkIV",
        "outputId": "26bfa973-d277-401d-eeac-d20c7c0f2a2f"
      },
      "execution_count": 46,
      "outputs": [
        {
          "output_type": "stream",
          "name": "stdout",
          "text": [
            "Initialized weight : w1: -1.0856306033005612 | w2 : 0.9973454465835858 | b: 0.28297849805199204\n",
            "Iteration : 0 | Error : 966.3065003908569 \n",
            "Iteration : 1 | Error : 439.532063286701 \n",
            "Iteration : 2 | Error : 318.0650000871874 \n",
            "Iteration : 3 | Error : 279.3593360922713 \n",
            "Iteration : 4 | Error : 258.2409809971566 \n",
            "Iteration : 5 | Error : 241.49799441411406 \n",
            "Iteration : 6 | Error : 226.41199735525393 \n",
            "Iteration : 7 | Error : 212.38623398876894 \n",
            "Iteration : 8 | Error : 199.2552380910508 \n",
            "Iteration : 9 | Error : 186.94340210506726 \n",
            "Iteration : 10 | Error : 175.3958757150935 \n",
            "Iteration : 11 | Error : 164.56445335435487 \n",
            "Iteration : 12 | Error : 154.40457300156285 \n",
            "Iteration : 13 | Error : 144.8745675711225 \n",
            "Iteration : 14 | Error : 135.93537990809244 \n",
            "Iteration : 15 | Error : 127.55037967607961 \n",
            "Iteration : 16 | Error : 119.68520860068111 \n",
            "Iteration : 17 | Error : 112.30763873999693 \n",
            "Iteration : 18 | Error : 105.38744023493567 \n",
            "Iteration : 19 | Error : 98.89625739851732 \n",
            "Iteration : 20 | Error : 92.80749251551948 \n",
            "Iteration : 21 | Error : 87.09619685191035 \n",
            "Iteration : 22 | Error : 81.73896842252918 \n",
            "Iteration : 23 | Error : 76.7138560971053 \n",
            "Iteration : 24 | Error : 72.00026965147137 \n",
            "Iteration : 25 | Error : 67.57889539534891 \n",
            "Iteration : 26 | Error : 63.43161703096687 \n",
            "Iteration : 27 | Error : 59.54144141821595 \n",
            "Iteration : 28 | Error : 55.89242894214652 \n",
            "Iteration : 29 | Error : 52.46962819747943 \n",
            "Iteration : 30 | Error : 49.259014722486235 \n",
            "Iteration : 31 | Error : 46.24743353119062 \n",
            "Iteration : 32 | Error : 43.42254520840568 \n",
            "Iteration : 33 | Error : 40.772775346721936 \n",
            "Iteration : 34 | Error : 38.28726711825472 \n",
            "Iteration : 35 | Error : 35.95583678680463 \n",
            "Iteration : 36 | Error : 33.768931978135065 \n",
            "Iteration : 37 | Error : 31.717592537370354 \n",
            "Iteration : 38 | Error : 29.79341381312136 \n",
            "Iteration : 39 | Error : 27.98851221788827 \n",
            "Iteration : 40 | Error : 26.29549292361814 \n",
            "Iteration : 41 | Error : 24.707419560043355 \n",
            "Iteration : 42 | Error : 23.217785791635386 \n",
            "Iteration : 43 | Error : 21.82048865670399 \n",
            "Iteration : 44 | Error : 20.509803559394996 \n",
            "Iteration : 45 | Error : 19.28036081211107 \n",
            "Iteration : 46 | Error : 18.12712363223411 \n",
            "Iteration : 47 | Error : 17.045367502986913 \n",
            "Iteration : 48 | Error : 16.030660813860877 \n",
            "Iteration : 49 | Error : 15.078846701281162 \n",
            "Iteration : 50 | Error : 14.186026015097427 \n",
            "Iteration : 51 | Error : 13.348541341102617 \n",
            "Iteration : 52 | Error : 12.562962014108944 \n",
            "Iteration : 53 | Error : 11.82607006016964 \n",
            "Iteration : 54 | Error : 11.134847010341744 \n",
            "Iteration : 55 | Error : 10.486461531957355 \n",
            "Iteration : 56 | Error : 9.878257826720002 \n",
            "Iteration : 57 | Error : 9.307744748085154 \n",
            "Iteration : 58 | Error : 8.772585593331454 \n",
            "Iteration : 59 | Error : 8.270588528493759 \n",
            "Iteration : 60 | Error : 7.799697606922562 \n",
            "Iteration : 61 | Error : 7.35798434466635 \n",
            "Iteration : 62 | Error : 6.943639818155845 \n",
            "Iteration : 63 | Error : 6.554967251808752 \n",
            "Iteration : 64 | Error : 6.190375065181402 \n",
            "Iteration : 65 | Error : 5.848370351176721 \n",
            "Iteration : 66 | Error : 5.527552758584371 \n",
            "Iteration : 67 | Error : 5.22660875388541 \n",
            "Iteration : 68 | Error : 4.944306238808587 \n",
            "Iteration : 69 | Error : 4.679489501582181 \n",
            "Iteration : 70 | Error : 4.431074481193745 \n",
            "Iteration : 71 | Error : 4.198044325251822 \n",
            "Iteration : 72 | Error : 3.979445223247304 \n",
            "Iteration : 73 | Error : 3.7743824981404233 \n",
            "Iteration : 74 | Error : 3.582016940258098 \n",
            "Iteration : 75 | Error : 3.401561368478757 \n",
            "Iteration : 76 | Error : 3.232277404613774 \n",
            "Iteration : 77 | Error : 3.0734724477679385 \n",
            "Iteration : 78 | Error : 2.9244968362806145 \n",
            "Iteration : 79 | Error : 2.784741185618301 \n",
            "Iteration : 80 | Error : 2.6536338913102564 \n",
            "Iteration : 81 | Error : 2.5306387866946007 \n",
            "Iteration : 82 | Error : 2.4152529458774805 \n",
            "Iteration : 83 | Error : 2.307004622902365 \n",
            "Iteration : 84 | Error : 2.2054513186847573 \n",
            "Iteration : 85 | Error : 2.110177967791368 \n",
            "Iteration : 86 | Error : 2.020795237633733 \n",
            "Iteration : 87 | Error : 1.9369379331067702 \n",
            "Iteration : 88 | Error : 1.8582635001352146 \n",
            "Iteration : 89 | Error : 1.7844506219957315 \n",
            "Iteration : 90 | Error : 1.7151979026629793 \n",
            "Iteration : 91 | Error : 1.6502226317844053 \n",
            "Iteration : 92 | Error : 1.5892596262229917 \n",
            "Iteration : 93 | Error : 1.5320601434209726 \n",
            "Iteration : 94 | Error : 1.4783908621318385 \n",
            "Iteration : 95 | Error : 1.4280329263439597 \n",
            "Iteration : 96 | Error : 1.3807810484782168 \n",
            "Iteration : 97 | Error : 1.3364426681847017 \n",
            "Iteration : 98 | Error : 1.294837163291628 \n",
            "Iteration : 99 | Error : 1.255795109673044 \n"
          ]
        }
      ]
    },
    {
      "cell_type": "code",
      "source": [
        "w1 , w2 , b"
      ],
      "metadata": {
        "colab": {
          "base_uri": "https://localhost:8080/"
        },
        "id": "5YBlh-NLR9Ff",
        "outputId": "94a96024-1a20-4d94-a573-df7520151d12"
      },
      "execution_count": 44,
      "outputs": [
        {
          "output_type": "execute_result",
          "data": {
            "text/plain": [
              "(1.9321108721522176, -0.000651074662333443, 0.4625748951566427)"
            ]
          },
          "metadata": {},
          "execution_count": 44
        }
      ]
    },
    {
      "cell_type": "code",
      "source": [
        "y_preds"
      ],
      "metadata": {
        "colab": {
          "base_uri": "https://localhost:8080/"
        },
        "id": "0g399qWLleym",
        "outputId": "d8ac2321-a5db-449f-c639-40fcbeba16b2"
      },
      "execution_count": 45,
      "outputs": [
        {
          "output_type": "execute_result",
          "data": {
            "text/plain": [
              "[19.758852526110335, 15.919809210615945, 29.426238897226707]"
            ]
          },
          "metadata": {},
          "execution_count": 45
        }
      ]
    },
    {
      "cell_type": "code",
      "source": [
        "import matplotlib.pyplot as plt\n",
        "plt.plot(error)\n",
        "plt.xlabel(\"Iterations\")\n",
        "plt.ylabel(\"Error / SSE\")\n",
        "plt.grid()\n",
        "plt.show()"
      ],
      "metadata": {
        "colab": {
          "base_uri": "https://localhost:8080/",
          "height": 450
        },
        "id": "koegOUaVm5K3",
        "outputId": "37a6e91f-554a-430e-fc24-2f80ec896825"
      },
      "execution_count": 47,
      "outputs": [
        {
          "output_type": "display_data",
          "data": {
            "text/plain": [
              "<Figure size 640x480 with 1 Axes>"
            ],
            "image/png": "[encoded data removed]"
          },
          "metadata": {}
        }
      ]
    }
  ]
}